{
 "cells": [
  {
   "cell_type": "code",
   "execution_count": 1,
   "id": "a6c289dc-69bd-47b5-901c-2f155c25c9ec",
   "metadata": {},
   "outputs": [],
   "source": [
    "from pub import *"
   ]
  },
  {
   "cell_type": "code",
   "execution_count": 2,
   "id": "23a16e4a-ab25-4865-aa10-c16553b801c7",
   "metadata": {},
   "outputs": [],
   "source": [
    "def bit1_48(codeInt, i):\n",
    "    _1 = 1<<47\n",
    "    if type(i) == int:\n",
    "        return codeInt | (_1 >> i)\n",
    "    code = codeInt\n",
    "    for _i in i:\n",
    "        code = code | (_1 >> _i)\n",
    "    return code\n",
    "\n",
    "def bit0_48(codeInt, i):\n",
    "    _1 = 1<<47\n",
    "    return codeInt & ~(_1 >> i)"
   ]
  },
  {
   "cell_type": "code",
   "execution_count": 3,
   "id": "8b018808-4534-4766-8266-d2dba3e6ed54",
   "metadata": {},
   "outputs": [],
   "source": [
    "def invertHexaBits(sHex,nBits=32):\n",
    "    x = int(sHex,16)\n",
    "    sBin = bin(x)[2:].zfill(nBits)\n",
    "    xInvert = int(sBin[::-1],2)\n",
    "    sHexInvert = hex(xInvert)\n",
    "    return sHexInvert"
   ]
  },
  {
   "cell_type": "code",
   "execution_count": 4,
   "id": "6d2957b7-e609-407b-98f7-f225e17b5890",
   "metadata": {},
   "outputs": [],
   "source": [
    "def geraComandoIRAR(temp=24, fanSpeed=\"AUTO\", mode = \"COOL\",ligado=\"ON\"):\n",
    "    if ligado == \"OFF\":\n",
    "        return \"0xf80721deb24d\"\n",
    "    _constStr1 = \"101100100100110100000001000000000000000000000011\"\n",
    "    _constInt1 = int(_constStr1,2)\n",
    "    \n",
    "    dictFan = {\"AUTO\":[1,0,1]}\n",
    "    indFan=[16,17,18]\n",
    "    indFanInv=[24,25,26]\n",
    "    bitsFan = dictFan[fanSpeed]\n",
    "    \n",
    "    dictTemp = {17:[0,0,0,0], 18:[0,0,0,1], 19:[0,0,1,1], 20:[0,0,1,0],\n",
    "                21:[0,1,1,0], 22:[0,1,1,1], 23:[0,1,0,1], 24:[0,1,0,0],\n",
    "                25:[1,1,0,0], 26:[1,1,0,1], 27:[1,0,0,1], 28:[1,0,0,0],\n",
    "                29:[1,0,1,0], 30:[1,0,1,1]}\n",
    "    indTemp=[32,33,34,35]\n",
    "    indTempInv=[40,41,42,43]\n",
    "    if mode == \"FAN\":\n",
    "        bitsTemp = [1,1,1,0,]\n",
    "    else:\n",
    "        bitsTemp = dictTemp[temp]\n",
    "    \n",
    "    dictMode = {\"COOL\":[0,0], \"DRY\":[0,1], \"FAN\":[0,1], \"HEAT\":[1,1]}\n",
    "    indMode=[36,37]\n",
    "    indModeInv=[44,45]\n",
    "    bitsMode = dictMode[mode]\n",
    "    \n",
    "    indTimerOff=[19,20,21,22]\n",
    "    indTimerOffInv=[27,28,29,30]\n",
    "    bitsTimerOff=[1,1,1,1]\n",
    "    \n",
    "    code = _constInt1\n",
    "    \n",
    "    # print(bin(code))\n",
    "    for i in range(3):\n",
    "        if bitsFan[i] == 1:\n",
    "            code = bit1_48(code, indFan[i])\n",
    "            code = bit0_48(code, indFanInv[i])\n",
    "        else:\n",
    "            code = bit0_48(code, indFan[i])\n",
    "            code = bit1_48(code, indFanInv[i])\n",
    "        # print(bin(code))\n",
    "    \n",
    "    for i in range(2):\n",
    "        if bitsMode[i] == 1:\n",
    "            code = bit1_48(code, indMode[i])\n",
    "            code = bit0_48(code, indModeInv[i])\n",
    "        else:\n",
    "            code = bit0_48(code, indMode[i])\n",
    "            code = bit1_48(code, indModeInv[i])\n",
    "        # print(bin(code))\n",
    "    \n",
    "    for i in range(4):\n",
    "        if bitsTemp[i] == 1:\n",
    "            code = bit1_48(code, indTemp[i])\n",
    "            code = bit0_48(code, indTempInv[i])\n",
    "        else:\n",
    "            code = bit0_48(code, indTemp[i])\n",
    "            code = bit1_48(code, indTempInv[i])\n",
    "        # print(bin(code))\n",
    "    \n",
    "    for i in range(4):\n",
    "        if bitsTimerOff[i] == 1:\n",
    "            code = bit1_48(code, indTimerOff[i])\n",
    "            code = bit0_48(code, indTimerOffInv[i])\n",
    "        else:\n",
    "            code = bit0_48(code, indTimerOff[i])\n",
    "            code = bit1_48(code, indTimerOffInv[i])\n",
    "        # print(bin(code))\n",
    "    \n",
    "    # print(bin(code))\n",
    "    \n",
    "    sHexCode = hex(code)\n",
    "    sHexCodeInv = invertHexaBits(sHexCode,nBits=48)\n",
    "    return sHexCodeInv"
   ]
  },
  {
   "cell_type": "code",
   "execution_count": 106,
   "id": "08963028-2d69-4f16-a3b3-c002c4680c54",
   "metadata": {},
   "outputs": [
    {
     "name": "stdout",
     "output_type": "stream",
     "text": [
      "Connected to MQTT Broker!\n"
     ]
    },
    {
     "data": {
      "text/plain": [
       "'0xf50a02fdb24d'"
      ]
     },
     "execution_count": 106,
     "metadata": {},
     "output_type": "execute_result"
    }
   ],
   "source": [
    "code = geraComandoIRAR(23,mode=\"COOL\")\n",
    "envia2(\"IRARA\",code)\n",
    "code"
   ]
  },
  {
   "cell_type": "code",
   "execution_count": 126,
   "id": "4210fbb5-2f0c-489a-a602-1af3613ca522",
   "metadata": {},
   "outputs": [
    {
     "name": "stdout",
     "output_type": "stream",
     "text": [
      "Connected to MQTT Broker!\n"
     ]
    },
    {
     "data": {
      "text/plain": [
       "'0xd82702fdb24d'"
      ]
     },
     "execution_count": 126,
     "metadata": {},
     "output_type": "execute_result"
    }
   ],
   "source": [
    "code = geraComandoIRAR(mode=\"FAN\")\n",
    "envia2(\"IRARA\",code)\n",
    "code"
   ]
  },
  {
   "cell_type": "code",
   "execution_count": 127,
   "id": "e28bf1f4-eae9-458b-9909-311a3b0adc67",
   "metadata": {},
   "outputs": [
    {
     "name": "stdout",
     "output_type": "stream",
     "text": [
      "Connected to MQTT Broker!\n"
     ]
    },
    {
     "data": {
      "text/plain": [
       "'0xf80721deb24d'"
      ]
     },
     "execution_count": 127,
     "metadata": {},
     "output_type": "execute_result"
    }
   ],
   "source": [
    "code = geraComandoIRAR(ligado=\"OFF\")\n",
    "envia2(\"IRARA\",code)\n",
    "code\n",
    "# envia2(\"IRAR\",\"0xf80721deb24d\")"
   ]
  },
  {
   "cell_type": "code",
   "execution_count": 124,
   "id": "5ded64a2-8c95-41aa-8227-6c25e6c5c21b",
   "metadata": {},
   "outputs": [
    {
     "name": "stdout",
     "output_type": "stream",
     "text": [
      "Connected to MQTT Broker!\n"
     ]
    },
    {
     "data": {
      "text/plain": [
       "'0xf50a02fdb24d'"
      ]
     },
     "execution_count": 124,
     "metadata": {},
     "output_type": "execute_result"
    }
   ],
   "source": [
    "code = geraComandoIRAR(23,mode=\"COOL\")\n",
    "envia2(\"IRARB\",code)\n",
    "code"
   ]
  },
  {
   "cell_type": "code",
   "execution_count": 125,
   "id": "ff1319d6-0370-447f-a6c5-8fcd1905b137",
   "metadata": {},
   "outputs": [
    {
     "name": "stdout",
     "output_type": "stream",
     "text": [
      "Connected to MQTT Broker!\n"
     ]
    },
    {
     "data": {
      "text/plain": [
       "'0xd82702fdb24d'"
      ]
     },
     "execution_count": 125,
     "metadata": {},
     "output_type": "execute_result"
    }
   ],
   "source": [
    "code = geraComandoIRAR(mode=\"FAN\")\n",
    "envia2(\"IRARB\",code)\n",
    "code"
   ]
  },
  {
   "cell_type": "code",
   "execution_count": 134,
   "id": "342a889f-161f-4ee7-976b-e0344ccb4bcd",
   "metadata": {},
   "outputs": [
    {
     "name": "stdout",
     "output_type": "stream",
     "text": [
      "Connected to MQTT Broker!\n"
     ]
    },
    {
     "data": {
      "text/plain": [
       "'0xf80721deb24d'"
      ]
     },
     "execution_count": 134,
     "metadata": {},
     "output_type": "execute_result"
    }
   ],
   "source": [
    "code = geraComandoIRAR(ligado=\"OFF\")\n",
    "envia2(\"IRARB\",code)\n",
    "code\n",
    "# envia2(\"IRAR\",\"0xf80721deb24d\")"
   ]
  },
  {
   "cell_type": "code",
   "execution_count": null,
   "id": "86a24fd9-14a9-49d0-a93a-70cbc342e7fe",
   "metadata": {},
   "outputs": [],
   "source": []
  },
  {
   "cell_type": "code",
   "execution_count": 142,
   "id": "3b418f7f-4275-4a2b-a772-6eb95167e416",
   "metadata": {},
   "outputs": [
    {
     "data": {
      "text/plain": [
       "'0xff007f8022dd'"
      ]
     },
     "execution_count": 142,
     "metadata": {},
     "output_type": "execute_result"
    }
   ],
   "source": [
    "x=int(\"101110110100010000000001111111100000000011111111\",2)\n",
    "sx=invertHexaBits(hex(x),nBits=48)\n",
    "sx"
   ]
  },
  {
   "cell_type": "code",
   "execution_count": null,
   "id": "94958d45-6f79-492c-b865-89084e658964",
   "metadata": {},
   "outputs": [],
   "source": []
  }
 ],
 "metadata": {
  "kernelspec": {
   "display_name": "Python 3 (ipykernel)",
   "language": "python",
   "name": "python3"
  },
  "language_info": {
   "codemirror_mode": {
    "name": "ipython",
    "version": 3
   },
   "file_extension": ".py",
   "mimetype": "text/x-python",
   "name": "python",
   "nbconvert_exporter": "python",
   "pygments_lexer": "ipython3",
   "version": "3.10.12"
  }
 },
 "nbformat": 4,
 "nbformat_minor": 5
}
