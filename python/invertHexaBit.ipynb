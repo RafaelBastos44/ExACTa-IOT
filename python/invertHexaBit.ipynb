{
 "cells": [
  {
   "cell_type": "code",
   "execution_count": 1,
   "id": "629388ec-fae5-4341-af16-da8fe17e2397",
   "metadata": {},
   "outputs": [],
   "source": [
    "import json"
   ]
  },
  {
   "cell_type": "code",
   "execution_count": 4,
   "id": "f4cf2397-5608-4e38-8e57-d45a67c2e1e0",
   "metadata": {},
   "outputs": [],
   "source": [
    "def invertHexaBits(sHex,nBits=32):\n",
    "    x = int(sHex,16)\n",
    "    sBin = bin(x)[2:].zfill(nBits)\n",
    "    xInvert = int(sBin[::-1],2)\n",
    "    sHexInvert = hex(xInvert)\n",
    "    return sHexInvert"
   ]
  },
  {
   "cell_type": "code",
   "execution_count": 3,
   "id": "4b4808fa-892f-4ef7-9b0e-ad2f0d255eb4",
   "metadata": {},
   "outputs": [],
   "source": [
    "sCodes = \"\"\"IR_BPLUS  =0xF700FF\n",
    "IR_BMINUS =0xF7807F\n",
    "IR_OFF    =0xF740BF\n",
    "IR_ON     =0xF7C03F\n",
    "IR_R      =0xF720DF\n",
    "IR_G      =0xF7A05F\n",
    "IR_B      =0xF7609F\n",
    "IR_W      =0xF7E01F\n",
    "IR_B1     =0xF710EF\n",
    "IR_B2     =0xF7906F\n",
    "IR_B3     =0xF750AF\n",
    "IR_FLASH  =0xF7D02F\n",
    "IR_B4     =0xF730CF\n",
    "IR_B5     =0xF7B04F\n",
    "IR_B6     =0xF7708F\n",
    "IR_STROBE =0xF7F00F\n",
    "IR_B7     =0xF708F7\n",
    "IR_B8     =0xF78877\n",
    "IR_B9     =0xF748B7\n",
    "IR_FADE   =0xF7C837\n",
    "IR_B10    =0xF728D7\n",
    "IR_B11    =0xF7A857\n",
    "IR_B12    =0xF76897\n",
    "IR_SMOOTH =0xF7E817\"\"\""
   ]
  },
  {
   "cell_type": "code",
   "execution_count": 4,
   "id": "5b8a41a4-ffaf-4ba0-a8ea-eef89b1f35dd",
   "metadata": {},
   "outputs": [
    {
     "data": {
      "text/plain": [
       "['IR_BPLUS  =0xF700FF',\n",
       " 'IR_BMINUS =0xF7807F',\n",
       " 'IR_OFF    =0xF740BF',\n",
       " 'IR_ON     =0xF7C03F',\n",
       " 'IR_R      =0xF720DF',\n",
       " 'IR_G      =0xF7A05F',\n",
       " 'IR_B      =0xF7609F',\n",
       " 'IR_W      =0xF7E01F',\n",
       " 'IR_B1     =0xF710EF',\n",
       " 'IR_B2     =0xF7906F',\n",
       " 'IR_B3     =0xF750AF',\n",
       " 'IR_FLASH  =0xF7D02F',\n",
       " 'IR_B4     =0xF730CF',\n",
       " 'IR_B5     =0xF7B04F',\n",
       " 'IR_B6     =0xF7708F',\n",
       " 'IR_STROBE =0xF7F00F',\n",
       " 'IR_B7     =0xF708F7',\n",
       " 'IR_B8     =0xF78877',\n",
       " 'IR_B9     =0xF748B7',\n",
       " 'IR_FADE   =0xF7C837',\n",
       " 'IR_B10    =0xF728D7',\n",
       " 'IR_B11    =0xF7A857',\n",
       " 'IR_B12    =0xF76897',\n",
       " 'IR_SMOOTH =0xF7E817']"
      ]
     },
     "execution_count": 4,
     "metadata": {},
     "output_type": "execute_result"
    }
   ],
   "source": [
    "l1 = sCodes.split(\"\\n\")\n",
    "l1"
   ]
  },
  {
   "cell_type": "code",
   "execution_count": 5,
   "id": "6c3cec1f-06e1-4e13-8347-fcb09da866ab",
   "metadata": {},
   "outputs": [
    {
     "data": {
      "text/plain": [
       "{'IR_BPLUS': '0xF700FF',\n",
       " 'IR_BMINUS': '0xF7807F',\n",
       " 'IR_OFF': '0xF740BF',\n",
       " 'IR_ON': '0xF7C03F',\n",
       " 'IR_R': '0xF720DF',\n",
       " 'IR_G': '0xF7A05F',\n",
       " 'IR_B': '0xF7609F',\n",
       " 'IR_W': '0xF7E01F',\n",
       " 'IR_B1': '0xF710EF',\n",
       " 'IR_B2': '0xF7906F',\n",
       " 'IR_B3': '0xF750AF',\n",
       " 'IR_FLASH': '0xF7D02F',\n",
       " 'IR_B4': '0xF730CF',\n",
       " 'IR_B5': '0xF7B04F',\n",
       " 'IR_B6': '0xF7708F',\n",
       " 'IR_STROBE': '0xF7F00F',\n",
       " 'IR_B7': '0xF708F7',\n",
       " 'IR_B8': '0xF78877',\n",
       " 'IR_B9': '0xF748B7',\n",
       " 'IR_FADE': '0xF7C837',\n",
       " 'IR_B10': '0xF728D7',\n",
       " 'IR_B11': '0xF7A857',\n",
       " 'IR_B12': '0xF76897',\n",
       " 'IR_SMOOTH': '0xF7E817'}"
      ]
     },
     "execution_count": 5,
     "metadata": {},
     "output_type": "execute_result"
    }
   ],
   "source": [
    "dCodes = {}\n",
    "for el in l1:\n",
    "    _el = el.split(\"=\")\n",
    "    dCodes[_el[0].strip()] = _el[1].strip()\n",
    "dCodes"
   ]
  },
  {
   "cell_type": "code",
   "execution_count": 6,
   "id": "d2f61ea2-20f8-4c12-8734-d827942d19aa",
   "metadata": {},
   "outputs": [
    {
     "data": {
      "text/plain": [
       "{'IR_BPLUS': '0xff00ef00',\n",
       " 'IR_BMINUS': '0xfe01ef00',\n",
       " 'IR_OFF': '0xfd02ef00',\n",
       " 'IR_ON': '0xfc03ef00',\n",
       " 'IR_R': '0xfb04ef00',\n",
       " 'IR_G': '0xfa05ef00',\n",
       " 'IR_B': '0xf906ef00',\n",
       " 'IR_W': '0xf807ef00',\n",
       " 'IR_B1': '0xf708ef00',\n",
       " 'IR_B2': '0xf609ef00',\n",
       " 'IR_B3': '0xf50aef00',\n",
       " 'IR_FLASH': '0xf40bef00',\n",
       " 'IR_B4': '0xf30cef00',\n",
       " 'IR_B5': '0xf20def00',\n",
       " 'IR_B6': '0xf10eef00',\n",
       " 'IR_STROBE': '0xf00fef00',\n",
       " 'IR_B7': '0xef10ef00',\n",
       " 'IR_B8': '0xee11ef00',\n",
       " 'IR_B9': '0xed12ef00',\n",
       " 'IR_FADE': '0xec13ef00',\n",
       " 'IR_B10': '0xeb14ef00',\n",
       " 'IR_B11': '0xea15ef00',\n",
       " 'IR_B12': '0xe916ef00',\n",
       " 'IR_SMOOTH': '0xe817ef00'}"
      ]
     },
     "execution_count": 6,
     "metadata": {},
     "output_type": "execute_result"
    }
   ],
   "source": [
    "dCodesInvert = {}\n",
    "for key in dCodes:\n",
    "    dCodesInvert[key] = invertHexaBits(dCodes[key])\n",
    "dCodesInvert"
   ]
  },
  {
   "cell_type": "code",
   "execution_count": 7,
   "id": "dd2c1746-b912-4613-9266-854c1f8c40f1",
   "metadata": {},
   "outputs": [],
   "source": [
    "arq = open(\"IR_codes_rgb.json\",\"w\")\n",
    "json.dump(dCodesInvert, arq,indent=2)\n",
    "arq.close()"
   ]
  },
  {
   "cell_type": "code",
   "execution_count": 16,
   "id": "8bd9acf8-7a47-415c-be30-31227c73e825",
   "metadata": {},
   "outputs": [],
   "source": [
    "tvOnBin='11100000111000000110011110011000'"
   ]
  },
  {
   "cell_type": "code",
   "execution_count": 17,
   "id": "ce3da86e-7877-4fda-bce7-993e6cdb64b5",
   "metadata": {},
   "outputs": [
    {
     "data": {
      "text/plain": [
       "'0xe0e06798'"
      ]
     },
     "execution_count": 17,
     "metadata": {},
     "output_type": "execute_result"
    }
   ],
   "source": [
    "tvOnHex = hex(int(tvOnBin,2))\n",
    "tvOnHex"
   ]
  },
  {
   "cell_type": "code",
   "execution_count": 18,
   "id": "5f005164-e6bd-46b5-82fd-3091c8dc70f6",
   "metadata": {},
   "outputs": [
    {
     "data": {
      "text/plain": [
       "'0x19e60707'"
      ]
     },
     "execution_count": 18,
     "metadata": {},
     "output_type": "execute_result"
    }
   ],
   "source": [
    "invertHexaBits(tvOnHex)"
   ]
  },
  {
   "cell_type": "code",
   "execution_count": 11,
   "id": "ab5e69b0-9ad6-4ba6-b8b0-c3dc9fd3c824",
   "metadata": {},
   "outputs": [
    {
     "data": {
      "text/plain": [
       "'3772802968'"
      ]
     },
     "execution_count": 11,
     "metadata": {},
     "output_type": "execute_result"
    }
   ],
   "source": [
    "IR_TV_POWER = str(0xE0E06798)\n",
    "IR_TV_POWER"
   ]
  },
  {
   "cell_type": "code",
   "execution_count": 12,
   "id": "1baf7f9d-511f-45eb-8b63-f7a002be890d",
   "metadata": {},
   "outputs": [],
   "source": [
    "irArBin = \"101100100100110101111011100001001110000000011111\""
   ]
  },
  {
   "cell_type": "code",
   "execution_count": 13,
   "id": "df9dd8a3-f151-42d8-8d3a-a00aaa1a320d",
   "metadata": {},
   "outputs": [
    {
     "data": {
      "text/plain": [
       "'0xb24d7b84e01f'"
      ]
     },
     "execution_count": 13,
     "metadata": {},
     "output_type": "execute_result"
    }
   ],
   "source": [
    "irArHexa = hex(int(irArBin,2))\n",
    "irArHexa"
   ]
  },
  {
   "cell_type": "code",
   "execution_count": 14,
   "id": "da072bb8-2025-44c6-a173-e4b78dc3a064",
   "metadata": {},
   "outputs": [],
   "source": [
    "irArHexa='0xB24D7B84E01F'"
   ]
  },
  {
   "cell_type": "code",
   "execution_count": 15,
   "id": "49ff66c9-470e-4aa4-afc4-ce5ec5c39eb1",
   "metadata": {},
   "outputs": [
    {
     "data": {
      "text/plain": [
       "'0xf80721deb24d'"
      ]
     },
     "execution_count": 15,
     "metadata": {},
     "output_type": "execute_result"
    }
   ],
   "source": [
    "invertHexaBits(irArHexa,nBits=48)"
   ]
  },
  {
   "cell_type": "code",
   "execution_count": 2,
   "id": "a44ac322-f5f2-44be-8839-0c6a2960289d",
   "metadata": {},
   "outputs": [
    {
     "data": {
      "text/plain": [
       "'0xb24d9f60b04f'"
      ]
     },
     "execution_count": 2,
     "metadata": {},
     "output_type": "execute_result"
    }
   ],
   "source": [
    "codebin=\"101100100100110110011111011000001011000001001111\"\n",
    "codehexa=hex(int(codebin,2))\n",
    "codehexa"
   ]
  },
  {
   "cell_type": "code",
   "execution_count": 5,
   "id": "2feec2b4",
   "metadata": {},
   "outputs": [
    {
     "data": {
      "text/plain": [
       "'0xf20d06f9b24d'"
      ]
     },
     "execution_count": 5,
     "metadata": {},
     "output_type": "execute_result"
    }
   ],
   "source": [
    "invertHexaBits(codehexa,nBits=48)"
   ]
  },
  {
   "cell_type": "code",
   "execution_count": null,
   "id": "a53b97a5",
   "metadata": {},
   "outputs": [],
   "source": []
  }
 ],
 "metadata": {
  "kernelspec": {
   "display_name": "Python 3 (ipykernel)",
   "language": "python",
   "name": "python3"
  },
  "language_info": {
   "codemirror_mode": {
    "name": "ipython",
    "version": 3
   },
   "file_extension": ".py",
   "mimetype": "text/x-python",
   "name": "python",
   "nbconvert_exporter": "python",
   "pygments_lexer": "ipython3",
   "version": "3.10.12"
  }
 },
 "nbformat": 4,
 "nbformat_minor": 5
}
